{
 "cells": [
  {
   "cell_type": "code",
   "execution_count": null,
   "metadata": {},
   "outputs": [],
   "source": [
    "from mmdet.apis import init_detector\n",
    "from mmdet.apis import inference_detector\n",
    "from mmengine.config import Config\n",
    "import tqdm\n",
    "import os\n",
    "import time \n",
    "from copy import deepcopy\n",
    "from ensemble_boxes import weighted_boxes_fusion"
   ]
  },
  {
   "cell_type": "code",
   "execution_count": 2,
   "metadata": {},
   "outputs": [],
   "source": [
    "config_file=\"configs/_rdd/main.py\" \n",
    "checkpoint_file=\"model1.pth\" \n",
    "imgsz=640\n",
    "conf_thres=0.5\n",
    "iou_thres=0.999\n",
    "\n",
    "cfg = Config.fromfile(config_file)\n",
    "cfg['test_pipeline'][1]['img_scale'] = (imgsz, imgsz)\n",
    "cfg.model.test_cfg.rcnn.score_thr = float(conf_thres)\n",
    "cfg.model.test_cfg.rcnn.nms.iou_threshold = float(iou_thres)"
   ]
  },
  {
   "cell_type": "code",
   "execution_count": 3,
   "metadata": {},
   "outputs": [],
   "source": [
    "cfg.tta_model = dict(\n",
    "    type='DetTTAModel',\n",
    "    tta_cfg=dict(\n",
    "        nms=dict(type='nms', iou_threshold=iou_thres), max_per_img=100))\n",
    "\n",
    "test_data_cfg = cfg.test_dataloader.dataset\n",
    "while 'dataset' in test_data_cfg:\n",
    "    test_data_cfg = test_data_cfg['dataset']\n",
    "cfg.tta_pipeline = deepcopy(test_data_cfg.pipeline)\n",
    "flip_tta = dict(\n",
    "    type='TestTimeAug',\n",
    "    transforms=[\n",
    "        [\n",
    "            dict(type='RandomFlip', prob=1.),\n",
    "            dict(type='RandomFlip', prob=0.)\n",
    "        ],\n",
    "        [\n",
    "            dict(\n",
    "                type='PackDetInputs',\n",
    "                meta_keys=('img_id', 'img_path', 'ori_shape',\n",
    "                            'img_shape', 'scale_factor', 'flip',\n",
    "                            'flip_direction'))\n",
    "        ],\n",
    "    ])\n",
    "cfg.tta_pipeline[-1] = flip_tta"
   ]
  },
  {
   "cell_type": "code",
   "execution_count": null,
   "metadata": {},
   "outputs": [],
   "source": [
    "model1 = init_detector(cfg, checkpoint_file, device='cuda:2')"
   ]
  },
  {
   "cell_type": "code",
   "execution_count": 5,
   "metadata": {},
   "outputs": [],
   "source": [
    "config_file=\"configs/_rdd/main2.py\" \n",
    "checkpoint_file=\"model2.pth\" \n",
    "imgsz=640\n",
    "conf_thres=0.5\n",
    "iou_thres=0.999\n",
    "\n",
    "cfg = Config.fromfile(config_file)\n",
    "cfg['test_pipeline'][1]['img_scale'] = (imgsz, imgsz)\n",
    "cfg.model.test_cfg.rcnn.score_thr = float(conf_thres)\n",
    "cfg.model.test_cfg.rcnn.nms.iou_threshold = float(iou_thres)"
   ]
  },
  {
   "cell_type": "code",
   "execution_count": null,
   "metadata": {},
   "outputs": [],
   "source": [
    "model2 = init_detector(cfg, checkpoint_file, device='cuda:2')"
   ]
  },
  {
   "cell_type": "code",
   "execution_count": 7,
   "metadata": {},
   "outputs": [],
   "source": [
    "config_file=\"configs/_rdd/main3.py\" \n",
    "checkpoint_file=\"model3.pth\" \n",
    "imgsz=640\n",
    "conf_thres=0.5\n",
    "iou_thres=0.999\n",
    "\n",
    "cfg = Config.fromfile(config_file)\n",
    "cfg['test_pipeline'][1]['img_scale'] = (imgsz, imgsz)\n",
    "cfg.model.test_cfg.rcnn.score_thr = float(conf_thres)\n",
    "cfg.model.test_cfg.rcnn.nms.iou_threshold = float(iou_thres)"
   ]
  },
  {
   "cell_type": "code",
   "execution_count": null,
   "metadata": {},
   "outputs": [],
   "source": [
    "model3 = init_detector(cfg, checkpoint_file, device='cuda:2')"
   ]
  },
  {
   "cell_type": "code",
   "execution_count": 9,
   "metadata": {},
   "outputs": [],
   "source": [
    "config_file=\"configs/_rdd/main7.py\" \n",
    "checkpoint_file=\"model4.pth\" \n",
    "imgsz=640\n",
    "conf_thres=0.5\n",
    "iou_thres=0.999\n",
    "\n",
    "cfg = Config.fromfile(config_file)\n",
    "cfg['test_pipeline'][1]['img_scale'] = (imgsz, imgsz)\n",
    "cfg.model.test_cfg.rcnn.score_thr = float(conf_thres)\n",
    "cfg.model.test_cfg.rcnn.nms.iou_threshold = float(iou_thres)"
   ]
  },
  {
   "cell_type": "code",
   "execution_count": null,
   "metadata": {},
   "outputs": [],
   "source": [
    "model4 = init_detector(cfg, checkpoint_file, device='cuda:2')"
   ]
  },
  {
   "cell_type": "code",
   "execution_count": 11,
   "metadata": {},
   "outputs": [],
   "source": [
    "config_file=\"configs/_rdd/main8.py\" \n",
    "checkpoint_file=\"model5.pth\" \n",
    "imgsz=1280\n",
    "conf_thres=0.5\n",
    "iou_thres=0.999\n",
    "\n",
    "cfg = Config.fromfile(config_file)\n",
    "cfg['test_pipeline'][1]['img_scale'] = (imgsz, imgsz)\n",
    "cfg.model.test_cfg.rcnn.score_thr = float(conf_thres)\n",
    "cfg.model.test_cfg.rcnn.nms.iou_threshold = float(iou_thres)"
   ]
  },
  {
   "cell_type": "code",
   "execution_count": null,
   "metadata": {},
   "outputs": [],
   "source": [
    "model5 = init_detector(cfg, checkpoint_file, device='cuda:2')"
   ]
  },
  {
   "cell_type": "code",
   "execution_count": null,
   "metadata": {},
   "outputs": [],
   "source": [
    "model_list = {\n",
    "    'India': {\n",
    "        'models': [model1, model2, model3, model4, model5],\n",
    "        'weights': [3, 2, 1, 1, 2]\n",
    "    },\n",
    "    'United_States': {\n",
    "        'models': [model1, model2, model3, model4, model5],\n",
    "        'weights': [3, 2, 1, 1, 2]\n",
    "    },\n",
    "    'Japan': {\n",
    "        'models': [model1, model2, model3, model4, model5],\n",
    "        'weights': [3, 2, 1, 1, 2]\n",
    "    },\n",
    "    'Norway': {\n",
    "        'models': [model1, model2, model3, model4, model5],\n",
    "        'weights': [3, 2, 1, 1, 2]\n",
    "    },\n",
    "    'Czech': {\n",
    "        'models': [model1, model2, model3, model4, model5],\n",
    "        'weights': [3, 2, 1, 1, 2]\n",
    "    },\n",
    "    'China_MotorBike': {\n",
    "        'models': [model1, model2, model3, model4, model5],\n",
    "        'weights': [3, 2, 1, 1, 2]\n",
    "    }\n",
    "}\n",
    "\n",
    "with open('test_all.txt', 'w') as a:\n",
    "    for b in ['India', 'United_States', 'Japan', 'Norway', 'Czech', 'China_MotorBike']:\n",
    "        models = model_list[b]['models']\n",
    "        weights = model_list[b]['weights']\n",
    "        path=f\"/media/oem/storage01/jmjeong/rdd2022/RDD2022/{b}/test/images/\" \n",
    "        output_path = f'test_{b}.txt'\n",
    "        with open(output_path, 'w') as w:\n",
    "            for image_name in tqdm.tqdm(os.listdir(path)):\n",
    "                bboxes_list = []\n",
    "                scores_list = []\n",
    "                labels_list = []\n",
    "                \n",
    "                start_time = time.time()\n",
    "                for model in models:\n",
    "                    result = inference_detector(model, path+image_name)\n",
    "                    image_height, image_width = result.ori_shape\n",
    "                    \n",
    "                    bboxes = result.pred_instances.bboxes\n",
    "                    labels = result.pred_instances.labels\n",
    "                    scores = result.pred_instances.scores\n",
    "                    \n",
    "                    if len(bboxes) > 0: \n",
    "                        bboxes[:, 0] = bboxes[:, 0] / image_width\n",
    "                        bboxes[:, 1] = bboxes[:, 1] / image_height\n",
    "                        bboxes[:, 2] = bboxes[:, 2] / image_width\n",
    "                        bboxes[:, 3] = bboxes[:, 3] / image_height\n",
    "                        \n",
    "                    bboxes_list.append(bboxes)\n",
    "                    labels_list.append(labels)\n",
    "                    scores_list.append(scores)\n",
    "                    \n",
    "                bboxes, scores, labels = weighted_boxes_fusion(bboxes_list, scores_list, labels_list, weights=weights, iou_thr=iou_thres)\n",
    "                    \n",
    "                bbox_str = \"\"\n",
    "                for bbox, label in zip(bboxes, labels):\n",
    "                    xmin = int(bbox[0] * image_width)\n",
    "                    ymin = int(bbox[1] * image_height)\n",
    "                    xmax = int(bbox[2] * image_width)\n",
    "                    ymax = int(bbox[3] * image_height)\n",
    "                    label = int(label) + 1\n",
    "                    \n",
    "                    bbox_str += str(label) + ' ' + str(xmin) + ' ' \\\n",
    "                                + str(ymin) + ' ' + str(xmax) + ' ' + str(ymax) + ' '\n",
    "                                \n",
    "                bbox_str += '\\n'\n",
    "                \n",
    "                w.write(image_name + ',' + bbox_str)     \n",
    "                a.write(image_name + ',' + bbox_str)       \n",
    "                end_time = time.time()\n",
    "                \n",
    "                print(end_time - start_time)\n",
    "                "
   ]
  },
  {
   "cell_type": "code",
   "execution_count": null,
   "metadata": {},
   "outputs": [],
   "source": []
  }
 ],
 "metadata": {
  "kernelspec": {
   "display_name": "yolo-openset",
   "language": "python",
   "name": "python3"
  },
  "language_info": {
   "codemirror_mode": {
    "name": "ipython",
    "version": 3
   },
   "file_extension": ".py",
   "mimetype": "text/x-python",
   "name": "python",
   "nbconvert_exporter": "python",
   "pygments_lexer": "ipython3",
   "version": "3.9.19"
  }
 },
 "nbformat": 4,
 "nbformat_minor": 2
}
